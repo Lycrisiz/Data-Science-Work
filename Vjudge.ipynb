{
 "cells": [
  {
   "cell_type": "code",
   "execution_count": 3,
   "metadata": {},
   "outputs": [
    {
     "name": "stdout",
     "output_type": "stream",
     "text": [
      "77 77 79\n"
     ]
    }
   ],
   "source": [
    "n = int(input())\n",
    "k = n//3\n",
    "r = n%3\n",
    "rk = k%3\n",
    "if rk == 1:\n",
    "    if r == 1:\n",
    "        print(k, k, k+1)\n",
    "    elif r == 2:\n",
    "        print(k, k+1,k+1)\n",
    "    else:\n",
    "        print(k,k,k)\n",
    "elif rk == 2:\n",
    "    if r == 1:\n",
    "        print(k-1, k, k+2)\n",
    "    elif r == 2:\n",
    "        print(k, k, k+2)\n",
    "    else:\n",
    "        print(k, k, k)\n",
    "else:\n",
    "    if r == 1:\n",
    "        print(k+1, k-1, k+1)\n",
    "    elif r == 2:\n",
    "        print(k+2, k-1, k+1)\n",
    "    else:\n",
    "        print(k+1, k-2, k+1)\n"
   ]
  },
  {
   "cell_type": "code",
   "execution_count": 8,
   "metadata": {},
   "outputs": [
    {
     "name": "stdout",
     "output_type": "stream",
     "text": [
      "8\n"
     ]
    }
   ],
   "source": [
    "nm = [int(i) for i in input().split()]\n",
    "if nm[1] == 1:\n",
    "    print(nm[0] - 1)\n",
    "else:\n",
    "    print(nm[0]*(nm[1]-1))"
   ]
  },
  {
   "cell_type": "code",
   "execution_count": 30,
   "metadata": {},
   "outputs": [
    {
     "name": "stdout",
     "output_type": "stream",
     "text": [
      "NO\n",
      "YES\n",
      "YES\n",
      "YES\n",
      "NO\n"
     ]
    }
   ],
   "source": [
    "for i in range(int(input())):\n",
    "    m = int(input())\n",
    "    d = m//2020\n",
    "    r = m%2020\n",
    "    if r>d:\n",
    "        print('NO')\n",
    "    else:\n",
    "        print('YES')"
   ]
  },
  {
   "cell_type": "code",
   "execution_count": 33,
   "metadata": {},
   "outputs": [
    {
     "name": "stdout",
     "output_type": "stream",
     "text": [
      "YES\n",
      "NO\n",
      "NO\n",
      "YES\n",
      "YES\n",
      "YES\n",
      "YES\n"
     ]
    }
   ],
   "source": [
    "for i in range(int(input())):\n",
    "    f = [int(i) for i in input().split()]\n",
    "    while f[0] > 20 and f[1] != 0:\n",
    "        f[0] = f[0]//2 + 10\n",
    "        f[1] -= 1\n",
    "    f[0] = f[0] - f[2]*10\n",
    "    if f[0] <= 0:\n",
    "        print('YES')\n",
    "    else:\n",
    "        print('NO')\n"
   ]
  },
  {
   "cell_type": "code",
   "execution_count": 35,
   "metadata": {},
   "outputs": [
    {
     "name": "stdout",
     "output_type": "stream",
     "text": [
      "1 1 2 3\n",
      "1 1 4 4\n",
      "1 1 3 5\n"
     ]
    },
    {
     "ename": "IndexError",
     "evalue": "list index out of range",
     "output_type": "error",
     "traceback": [
      "\u001b[1;31m---------------------------------------------------------------------------\u001b[0m",
      "\u001b[1;31mIndexError\u001b[0m                                Traceback (most recent call last)",
      "Cell \u001b[1;32mIn[35], line 3\u001b[0m\n\u001b[0;32m      1\u001b[0m \u001b[38;5;28;01mfor\u001b[39;00m i \u001b[38;5;129;01min\u001b[39;00m \u001b[38;5;28mrange\u001b[39m(\u001b[38;5;28mint\u001b[39m(\u001b[38;5;28minput\u001b[39m())):\n\u001b[0;32m      2\u001b[0m     f \u001b[38;5;241m=\u001b[39m [\u001b[38;5;28mint\u001b[39m(i) \u001b[38;5;28;01mfor\u001b[39;00m i \u001b[38;5;129;01min\u001b[39;00m \u001b[38;5;28minput\u001b[39m()\u001b[38;5;241m.\u001b[39msplit()]\n\u001b[1;32m----> 3\u001b[0m     \u001b[38;5;28mprint\u001b[39m(\u001b[38;5;241m1\u001b[39m,\u001b[38;5;241m1\u001b[39m,\u001b[43mf\u001b[49m\u001b[43m[\u001b[49m\u001b[38;5;241;43m0\u001b[39;49m\u001b[43m]\u001b[49m,f[\u001b[38;5;241m1\u001b[39m]) \n",
      "\u001b[1;31mIndexError\u001b[0m: list index out of range"
     ]
    }
   ],
   "source": [
    "for i in range(int(input())):\n",
    "    f = [int(i) for i in input().split()]\n",
    "    print(1,1,f[0],f[1]) "
   ]
  },
  {
   "cell_type": "code",
   "execution_count": 20,
   "metadata": {},
   "outputs": [
    {
     "ename": "IndexError",
     "evalue": "list index out of range",
     "output_type": "error",
     "traceback": [
      "\u001b[1;31m---------------------------------------------------------------------------\u001b[0m",
      "\u001b[1;31mIndexError\u001b[0m                                Traceback (most recent call last)",
      "Cell \u001b[1;32mIn[20], line 2\u001b[0m\n\u001b[0;32m      1\u001b[0m f \u001b[38;5;241m=\u001b[39m [\u001b[38;5;28mint\u001b[39m(i) \u001b[38;5;28;01mfor\u001b[39;00m i \u001b[38;5;129;01min\u001b[39;00m \u001b[38;5;28minput\u001b[39m()\u001b[38;5;241m.\u001b[39msplit()]\n\u001b[1;32m----> 2\u001b[0m \u001b[38;5;28;01mif\u001b[39;00m \u001b[43mf\u001b[49m\u001b[43m[\u001b[49m\u001b[38;5;241;43m2\u001b[39;49m\u001b[43m]\u001b[49m \u001b[38;5;241m<\u001b[39m f[\u001b[38;5;241m0\u001b[39m]:\n\u001b[0;32m      3\u001b[0m     \u001b[38;5;28mprint\u001b[39m(\u001b[38;5;124m'\u001b[39m\u001b[38;5;124mNO\u001b[39m\u001b[38;5;124m'\u001b[39m)\n\u001b[0;32m      4\u001b[0m \u001b[38;5;28;01melif\u001b[39;00m f[\u001b[38;5;241m2\u001b[39m] \u001b[38;5;241m==\u001b[39m f[\u001b[38;5;241m0\u001b[39m]:\n",
      "\u001b[1;31mIndexError\u001b[0m: list index out of range"
     ]
    }
   ],
   "source": [
    "f = [int(i) for i in input().split()]\n",
    "if f[2] < f[0]:\n",
    "    print('NO')\n",
    "elif f[2] == f[0]:\n",
    "    print('YES')\n",
    "elif f[2] > f[0] and f[2] < (f[1] + f[0]):\n",
    "    print('NO')\n",
    "elif int((f[2]-f[0])/f[1]) == (f[2]-f[0])/f[1]:\n",
    "    print('YES')\n",
    "elif int((f[2]-f[0]-1)/f[1]) == (f[2]-f[0]-1)/f[1]:\n",
    "    print('YES')\n",
    "else:\n",
    "    print('NO')\n"
   ]
  },
  {
   "cell_type": "code",
   "execution_count": 52,
   "metadata": {},
   "outputs": [
    {
     "name": "stdout",
     "output_type": "stream",
     "text": [
      "10.083005244258363\n",
      "1\n"
     ]
    }
   ],
   "source": [
    "n = int(input())\n",
    "a = -1/2 + (2*(2*n)**(1/2))/2\n",
    "a = int(a)\n",
    "k = (a/2)*(a+1)\n",
    "if k == n:\n",
    "    print(int(k))\n",
    "else:\n",
    "    n = n-k\n",
    "    print(int(n))"
   ]
  },
  {
   "cell_type": "code",
   "execution_count": 1,
   "metadata": {},
   "outputs": [
    {
     "name": "stdout",
     "output_type": "stream",
     "text": [
      "4\n"
     ]
    }
   ],
   "source": [
    "f = [int(i) for i in input().split()]\n",
    "g = [int(i) for i in input().split()]\n",
    "s =(g[0]*f[1])/f[2]\n",
    "sm = sum(g)\n",
    "if s < sm:\n",
    "    g2 = g[1:]\n",
    "    g2.sort(reverse=True)\n",
    "    i = 0\n",
    "    while s < sm:\n",
    "        sm -= g2[i]\n",
    "        i += 1\n",
    "    print(i)\n",
    "else:\n",
    "    print(0)"
   ]
  },
  {
   "cell_type": "code",
   "execution_count": 13,
   "metadata": {},
   "outputs": [
    {
     "name": "stdout",
     "output_type": "stream",
     "text": [
      "11010\n"
     ]
    }
   ],
   "source": [
    "n = str(input())\n",
    "if '0' in n:\n",
    "    print(n.replace('0','',1))\n",
    "else:\n",
    "    print(n[1:])"
   ]
  },
  {
   "cell_type": "code",
   "execution_count": 1,
   "metadata": {},
   "outputs": [
    {
     "name": "stdout",
     "output_type": "stream",
     "text": [
      "Yes\n",
      "No\n",
      "No\n",
      "Yes\n",
      "Yes\n",
      "Yes\n"
     ]
    }
   ],
   "source": [
    "for i in range(int(input())):\n",
    "    n = [int(i) for i in input().split()]\n",
    "    m = [int(i) for i in input().split()]\n",
    "    if m[2] == m[4] and (n[0]>0 or n[1]>0):\n",
    "        print('No')\n",
    "    elif m[3] == m[5] and (n[2]>0 or n[3]>0):\n",
    "        print('No')\n",
    "    else:\n",
    "        n = [m[0] + n[1] - n[0],m[1] + n[3] - n[2]]\n",
    "        if (m[2] > n[0]) or (n[0] > m[4]):\n",
    "            print('No')\n",
    "        elif (m[3] > n[1]) or (n[1] > m[5]):\n",
    "            print('No')\n",
    "        else:\n",
    "            print('Yes')\n",
    "\n"
   ]
  },
  {
   "cell_type": "code",
   "execution_count": null,
   "metadata": {},
   "outputs": [],
   "source": [
    "for i in range(int(input())):\n",
    "    n = [int(i) for i in input().split()]\n",
    "    k = 0\n",
    "    n[1] = bin(n[1])[2:]\n",
    "    for i,j in enumerate(range(len(n[1])-1,-1,-1)):\n",
    "        if int(n[1][i]) == 1:\n",
    "            k += int(n[0])**j\n",
    "    print(k%1000000007)"
   ]
  },
  {
   "cell_type": "code",
   "execution_count": 22,
   "metadata": {},
   "outputs": [
    {
     "name": "stdout",
     "output_type": "stream",
     "text": [
      "4 2 0 "
     ]
    }
   ],
   "source": [
    "n = [int(i) for i in input().split()]\n",
    "f = set()\n",
    "r = set()\n",
    "for i in range(n[1]):\n",
    "    m = [int(i) for i in input().split()]\n",
    "    f.add(m[0])\n",
    "    r.add(m[1])\n",
    "    print(str((n[0]-len(f))*(n[0]-len(r))), end= ' ')"
   ]
  },
  {
   "cell_type": "code",
   "execution_count": 10,
   "metadata": {},
   "outputs": [],
   "source": [
    "f = set()\n",
    "f.add(1)\n",
    "f.add(2)"
   ]
  },
  {
   "cell_type": "code",
   "execution_count": 11,
   "metadata": {},
   "outputs": [
    {
     "data": {
      "text/plain": [
       "2"
      ]
     },
     "execution_count": 11,
     "metadata": {},
     "output_type": "execute_result"
    }
   ],
   "source": [
    "len(f)"
   ]
  },
  {
   "cell_type": "code",
   "execution_count": null,
   "metadata": {},
   "outputs": [],
   "source": [
    "4 2 0 \n"
   ]
  }
 ],
 "metadata": {
  "kernelspec": {
   "display_name": "Python 3",
   "language": "python",
   "name": "python3"
  },
  "language_info": {
   "codemirror_mode": {
    "name": "ipython",
    "version": 3
   },
   "file_extension": ".py",
   "mimetype": "text/x-python",
   "name": "python",
   "nbconvert_exporter": "python",
   "pygments_lexer": "ipython3",
   "version": "3.11.7"
  }
 },
 "nbformat": 4,
 "nbformat_minor": 2
}
