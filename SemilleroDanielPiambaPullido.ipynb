{
 "cells": [
  {
   "cell_type": "code",
   "execution_count": 113,
   "metadata": {},
   "outputs": [],
   "source": [
    "import pandas as pd\n",
    "import datetime as dt\n",
    "import unidecode\n",
    "import numpy as np\n"
   ]
  },
  {
   "cell_type": "code",
   "execution_count": 114,
   "metadata": {},
   "outputs": [],
   "source": [
    "\n",
    "Ruta = r\"C:\\Users\\danie\\OneDrive\\Documentos\\Semillero\"\n",
    "\n",
    "R_IncautacionArmas = pd.read_csv(Ruta + r\"\\Reporte_Incautaci_n_de_Armas_de_Fuego_Polic_a_Nacional_20240702.csv\",\n",
    "                                 usecols=['DEPARTAMENTO', 'MUNICIPIO HECHO', 'CLASE BIEN','FECHA HECHO', 'CANTIDAD'])\n",
    "R_HurtoModalida = pd.read_csv(Ruta + r\"\\HURTO_PERSONAS_20240718.csv\", sep = ',',usecols=\n",
    "                              ['FECHA HECHO', 'DEPARTAMENTO','MUNICIPIO','CANTIDAD'])\n",
    "R_ViolenciaIF = pd.read_csv(Ruta + r\"\\Reporte_Delito_Violencia_Intrafamiliar_Polic_a_Nacional_20240702.csv\",usecols=\n",
    "                              ['DEPARTAMENTO', 'MUNICIPIO', 'ARMAS MEDIOS','FECHA HECHO', 'GENERO', 'GRUPO ETARIO', 'CANTIDAD'])\n",
    "R_TerrorismoPN = pd.read_csv(Ruta + r\"\\Reporte_Delito_Terrorismo_Polic_a_Nacional_20240702.csv\", sep = ',',usecols=\n",
    "                              ['Departamento', 'Municipio','ARMAS MEDIOS','FECHA HECHO', 'CANTIDAD'])\n",
    "R_CapturasPN = pd.read_csv(Ruta + r\"\\Reporte_Capturas_Polic_a_Nacional_de_Colombia_20240723.csv\", sep = ',',usecols=\n",
    "                              ['DEPARTAMENTO', 'MUNICIPIO','FECHA HECHO', 'GENERO','DESCRIPCION CONDUCTA CAPTURA', 'GRUPO ETARIO', 'CANTIDAD'])\n",
    "R_DelitosSexuales = pd.read_csv(Ruta + r\"\\Reporte__Delitos_sexuales_Polic_a_Nacional_20240702.csv\",usecols=\n",
    "                              ['DEPARTAMENTO', 'MUNICIPIO','ARMAS MEDIOS','FECHA HECHO', 'GENERO', 'GRUPO ETARIO', 'CANTIDAD', 'delito'])\n",
    "R_RecuperacionVehiculos = pd.read_csv(Ruta + r\"\\Recuperaci_n_Veh_culos_Polic_a_Nacional_20240702.csv\",usecols=\n",
    "                              ['DEPARTAMENTO', 'MUNICIPIO','CLASE BIEN', 'FECHA HECHO','CANTIDAD'])\n",
    "R_HomicidiosAccidente = pd.read_csv(Ruta + r\"\\Homicidios_accidente_de_tr_nsito_Polic_a_Nacional_20240702.csv\",usecols=\n",
    "                              ['DEPARTAMENTO', 'MUNICIPIO','ARMAS MEDIOS','FECHA HECHO', 'GENERO', 'GRUPO ETARÍO', 'DESCRIPCIÓN CONDUCTA','CANTIDAD'])\n",
    "R_AmenazasPN = pd.read_csv(Ruta + r\"\\Amenazas_Polic_a_Nacional_de_Colombia_20240702.csv\",usecols=\n",
    "                              ['DEPARTAMENTO', 'MUNICIPIO','ARMAS MEDIOS','FECHA HECHO', 'GENERO', 'GRUPO ETARIO', 'CANTIDAD'])\n",
    "R_Subregiones = pd.read_excel(Ruta + r\"\\subregiones.xlsx\")\n",
    "\n",
    "Info = [R_IncautacionArmas,\n",
    "R_HurtoModalida,\n",
    "R_ViolenciaIF,\n",
    "R_TerrorismoPN,\n",
    "R_CapturasPN,\n",
    "R_DelitosSexuales,\n",
    "R_RecuperacionVehiculos,\n",
    "R_HomicidiosAccidente,\n",
    "R_AmenazasPN ]"
   ]
  },
  {
   "cell_type": "code",
   "execution_count": 115,
   "metadata": {},
   "outputs": [],
   "source": [
    "columna_a_mover = Info[1].pop('DEPARTAMENTO')\n",
    "Info[1].insert(0, 'DEPARTAMENTO', columna_a_mover)\n",
    "Info[0] = Info[0].rename(columns={'MUNICIPIO HECHO': 'MUNICIPIO'})\n",
    "Info[3] = Info[3].rename(columns={'Municipio': 'MUNICIPIO'})\n",
    "Info[3] = Info[3].rename(columns={'Departamento': 'DEPARTAMENTO'})\n",
    "Info[1] = Info[1].rename(columns={'COD_DEPTO': 'CODIGO DANE'})\n",
    "Info[1]['DEPARTAMENTO'] = Info[1]['DEPARTAMENTO'].replace({'BOGOTA, D.C.':'BOGOTA D.C.'})\n"
   ]
  },
  {
   "cell_type": "code",
   "execution_count": 116,
   "metadata": {},
   "outputs": [],
   "source": [
    "Cambios_I = {'NO REPORTA':'NO REPORTADO'}\n",
    "Cambios_R = {'VALLE DEL CAUCA': 'VALLE','LA GUAJIRA':'GUAJIRA','ARCHIPIELAGO DE SAN ANDRES':'SAN ANDRES','BOGOTA, D. C.':'BOGOTA D.C.','ARCHIPIELAGO DE SAN ANDRES, PROVIDENCIA Y ':'SAN ANDRES','SAN ANDRES ISLAS':'SAN ANDRES',\n",
    "             'ARCHIPIELAGO DE SAN ANDRES, PROVIDENCIA Y SANTA CATALINA':'SAN ANDRES'}\n",
    "for idx, i in enumerate(Info):\n",
    "    Info[idx]['DEPARTAMENTO'] = i['DEPARTAMENTO'].apply(lambda x: x.upper())\n",
    "    Info[idx]['DEPARTAMENTO'] = i['DEPARTAMENTO'].apply(lambda x: '' if str(x)=='nan' else str(x).replace('Á', 'A').replace('É', 'E').replace('Í', 'I').replace('Ó', 'O').replace('Ú', 'U').replace('Ñ', 'N'))\n",
    "    Info[idx]['DEPARTAMENTO'] = i['DEPARTAMENTO'].replace(Cambios_I)\n",
    "    Info[idx]['DEPARTAMENTO'] = i['DEPARTAMENTO'].replace(Cambios_R)\n",
    "    Info[idx]['DEPARTAMENTO'] = i['DEPARTAMENTO'].apply(lambda x: x.replace(',',''))\n",
    "    Info[idx]['DEPARTAMENTO'] = i['DEPARTAMENTO'].apply(lambda x: x.strip())\n",
    "\n",
    "    \n",
    "    Info[idx]['MUNICIPIO'] = i['MUNICIPIO'].apply(lambda x: x.upper())\n",
    "    Info[idx]['MUNICIPIO'] = i['MUNICIPIO'].apply(lambda x: '' if str(x)=='nan' else str(x).replace('Á', 'A').replace('É', 'E').replace('Í', 'I').replace('Ó', 'O').replace('Ú', 'U').replace('Ñ', 'N'))\n",
    "    Info[idx]['MUNICIPIO'] = i['MUNICIPIO'].replace(Cambios_I)\n",
    "    Info[idx]['MUNICIPIO'] = i['MUNICIPIO'].apply(lambda x: x.replace(' (CT)',''))\n",
    "    Info[idx]['MUNICIPIO'] = i['MUNICIPIO'].apply(lambda x: x.replace('(CT)',''))\n",
    "    Info[idx]['MUNICIPIO'] = i['MUNICIPIO'].apply(lambda x: x.replace(',',''))\n",
    "    Info[idx]['MUNICIPIO'] = i['MUNICIPIO'].apply(lambda x: x.strip())\n",
    "\n",
    "R_Subregiones['NOMBRE_DEPTO'] = R_Subregiones['NOMBRE_DEPTO'].apply(lambda x: str(x).upper())\n",
    "R_Subregiones['NOMBRE_DEPTO'] = R_Subregiones['NOMBRE_DEPTO'].apply(lambda x: '' if str(x)=='nan' else str(x).replace('Á', 'A').replace('É', 'E').replace('Í', 'I').replace('Ó', 'O').replace('Ú', 'U').replace('Ñ', 'N'))\n",
    "R_Subregiones['NOMBRE_DEPTO'] = R_Subregiones['NOMBRE_DEPTO'].replace(Cambios_R)\n",
    "R_Subregiones['NOMBRE_MPIO'] = R_Subregiones['NOMBRE_MPIO'].apply(lambda x: str(x).upper())\n",
    "R_Subregiones['NOMBRE_MPIO'] = R_Subregiones['NOMBRE_MPIO'].apply(lambda x: '' if str(x)=='nan' else str(x).replace('Á', 'A').replace('É', 'E').replace('Í', 'I').replace('Ó', 'O').replace('Ú', 'U').replace('Ñ', 'N'))\n",
    "\n",
    "for idx, i in enumerate(Info):\n",
    "    Info[idx]['DEPARTAMENTO'] = i.apply(lambda x: 'BOGOTA D.C.' if x['MUNICIPIO'] == 'BOGOTA D.C.' else x['DEPARTAMENTO'], axis=1)"
   ]
  },
  {
   "cell_type": "code",
   "execution_count": 117,
   "metadata": {},
   "outputs": [
    {
     "data": {
      "text/html": [
       "<div>\n",
       "<style scoped>\n",
       "    .dataframe tbody tr th:only-of-type {\n",
       "        vertical-align: middle;\n",
       "    }\n",
       "\n",
       "    .dataframe tbody tr th {\n",
       "        vertical-align: top;\n",
       "    }\n",
       "\n",
       "    .dataframe thead th {\n",
       "        text-align: right;\n",
       "    }\n",
       "</style>\n",
       "<table border=\"1\" class=\"dataframe\">\n",
       "  <thead>\n",
       "    <tr style=\"text-align: right;\">\n",
       "      <th></th>\n",
       "      <th>DEPARTAMENTO</th>\n",
       "      <th>MUNICIPIO</th>\n",
       "      <th>CLASE BIEN</th>\n",
       "      <th>FECHA HECHO</th>\n",
       "      <th>CANTIDAD</th>\n",
       "    </tr>\n",
       "  </thead>\n",
       "  <tbody>\n",
       "    <tr>\n",
       "      <th>281474</th>\n",
       "      <td>VALLE</td>\n",
       "      <td>CALI</td>\n",
       "      <td>SUBAMETRALLADORA</td>\n",
       "      <td>02/02/2024</td>\n",
       "      <td>1</td>\n",
       "    </tr>\n",
       "    <tr>\n",
       "      <th>281475</th>\n",
       "      <td>CAUCA</td>\n",
       "      <td>POPAYAN</td>\n",
       "      <td>SUBAMETRALLADORA TRAUMATICA</td>\n",
       "      <td>05/04/2024</td>\n",
       "      <td>8</td>\n",
       "    </tr>\n",
       "    <tr>\n",
       "      <th>281476</th>\n",
       "      <td>CORDOBA</td>\n",
       "      <td>CHINU</td>\n",
       "      <td>SUBAMETRALLADORA TRAUMATICA</td>\n",
       "      <td>21/02/2024</td>\n",
       "      <td>1</td>\n",
       "    </tr>\n",
       "    <tr>\n",
       "      <th>281477</th>\n",
       "      <td>NORTE DE SANTANDER</td>\n",
       "      <td>OCANA</td>\n",
       "      <td>SUBAMETRALLADORA TRAUMATICA</td>\n",
       "      <td>26/02/2024</td>\n",
       "      <td>1</td>\n",
       "    </tr>\n",
       "    <tr>\n",
       "      <th>281478</th>\n",
       "      <td>RISARALDA</td>\n",
       "      <td>SANTA ROSA DE CABAL</td>\n",
       "      <td>SUBAMETRALLADORA TRAUMATICA</td>\n",
       "      <td>06/04/2024</td>\n",
       "      <td>1</td>\n",
       "    </tr>\n",
       "  </tbody>\n",
       "</table>\n",
       "</div>"
      ],
      "text/plain": [
       "              DEPARTAMENTO            MUNICIPIO                   CLASE BIEN  \\\n",
       "281474               VALLE                 CALI             SUBAMETRALLADORA   \n",
       "281475               CAUCA              POPAYAN  SUBAMETRALLADORA TRAUMATICA   \n",
       "281476             CORDOBA                CHINU  SUBAMETRALLADORA TRAUMATICA   \n",
       "281477  NORTE DE SANTANDER                OCANA  SUBAMETRALLADORA TRAUMATICA   \n",
       "281478           RISARALDA  SANTA ROSA DE CABAL  SUBAMETRALLADORA TRAUMATICA   \n",
       "\n",
       "       FECHA HECHO  CANTIDAD  \n",
       "281474  02/02/2024         1  \n",
       "281475  05/04/2024         8  \n",
       "281476  21/02/2024         1  \n",
       "281477  26/02/2024         1  \n",
       "281478  06/04/2024         1  "
      ]
     },
     "execution_count": 117,
     "metadata": {},
     "output_type": "execute_result"
    }
   ],
   "source": [
    "Info[0].tail()"
   ]
  },
  {
   "cell_type": "code",
   "execution_count": 118,
   "metadata": {},
   "outputs": [],
   "source": [
    "R_Subregiones = pd.concat([R_Subregiones,pd.DataFrame([{'NOMBRE_DEPTO':'NO REPORTADO', 'PROVINCIA':'NO REPORTADO', 'CODIGO_MUNICIPIO':0, 'NOMBRE_MPIO':'NO REPORTADO',\n",
    "       'Nombre':'NO REPORTADO'}])],ignore_index=True)"
   ]
  },
  {
   "cell_type": "code",
   "execution_count": 119,
   "metadata": {},
   "outputs": [],
   "source": [
    "Info[4] = Info[4].drop(Info[4][Info[4]['DEPARTAMENTO'].isin(['FLORIDA','MADRID','NEW JERSEY','NEW YORK','QUITO'])].index)"
   ]
  },
  {
   "cell_type": "code",
   "execution_count": 120,
   "metadata": {},
   "outputs": [
    {
     "name": "stdout",
     "output_type": "stream",
     "text": [
      "-------\n",
      "True\n",
      "-------\n",
      "True\n",
      "-------\n",
      "True\n",
      "-------\n",
      "True\n",
      "-------\n",
      "True\n",
      "-------\n",
      "True\n",
      "-------\n",
      "True\n",
      "-------\n",
      "True\n",
      "-------\n",
      "True\n"
     ]
    }
   ],
   "source": [
    "Deptos = R_Subregiones['NOMBRE_DEPTO'].unique()\n",
    "for i in Info:\n",
    "    l = i['DEPARTAMENTO'].unique()\n",
    "    print(\"-------\")\n",
    "    r = True\n",
    "    for j in l:\n",
    "        if j not in Deptos:\n",
    "            print(j)\n",
    "            r = False\n",
    "    print(r)\n"
   ]
  },
  {
   "cell_type": "code",
   "execution_count": 121,
   "metadata": {},
   "outputs": [],
   "source": [
    "for i in Info:\n",
    "    i['FECHA HECHO'] = i['FECHA HECHO'].apply(lambda x: str(x))"
   ]
  },
  {
   "cell_type": "code",
   "execution_count": 122,
   "metadata": {},
   "outputs": [],
   "source": [
    "R_Subregiones['Pais'] = 'Colombia'"
   ]
  },
  {
   "cell_type": "code",
   "execution_count": 123,
   "metadata": {},
   "outputs": [],
   "source": [
    "Cambios_RT = {'-':'NO REPORTADO','NO REPORTA':'NO REPORTADO'}\n",
    "for i in Info:\n",
    "    if 'GENERO' in i.columns:\n",
    "        i['GENERO'] = i['GENERO'].replace(Cambios_RT)\n",
    "    if 'ARMAS MEDIOS' in i.columns:\n",
    "        i['ARMAS MEDIOS'] = i['ARMAS MEDIOS'].replace(Cambios_RT)"
   ]
  },
  {
   "cell_type": "code",
   "execution_count": 124,
   "metadata": {},
   "outputs": [],
   "source": [
    "Cords = pd.read_excel(Ruta + r\"\\8. Clasificador Geográfico.xlsx\", skiprows=5, usecols=[3,4,7,9])\n",
    "Cords['Latitud'] = Cords['Latitud'].apply(lambda x: x.replace(',','.'))\n",
    "Cords['Longitud'] = Cords['Longitud'].apply(lambda x: x.replace(',','.'))\n",
    "Cords['Latitud'] = Cords['Latitud'].astype(float)\n",
    "Cords['Longitud'] = Cords['Longitud'].astype(float)\n",
    "\n",
    "Cords2 = pd.read_excel(Ruta + r\"\\Geoportal del DANE - Codificación Divipola.xlsx\", skiprows=1, usecols=[3,4,7,8])\n",
    "Cords['Longitud'] = Cords['Longitud'].apply(lambda x: -1*x if x > 0 else x)\n",
    "Cords2['Longitud'] = Cords2['Longitud'].apply(lambda x: -1*x if x > 0 else x)"
   ]
  },
  {
   "cell_type": "code",
   "execution_count": 125,
   "metadata": {},
   "outputs": [],
   "source": [
    "Cords['Nombre Departamento'] = Cords['Nombre Departamento'].apply(lambda x: '' if str(x)=='nan' else str(x).replace('Á', 'A').replace('É', 'E').replace('Í', 'I').replace('Ó', 'O').replace('Ú', 'U').replace('Ñ', 'N'))\n",
    "Cords['Nombre Municipio'] = Cords['Nombre Municipio'].apply(lambda x: '' if str(x)=='nan' else str(x).replace('Á', 'A').replace('É', 'E').replace('Í', 'I').replace('Ó', 'O').replace('Ú', 'U').replace('Ñ', 'N'))\n",
    "Cords['Nombre Departamento'] = Cords['Nombre Departamento'].replace(Cambios_R)\n",
    "\n",
    "Cords2['Nombre Departamento'] = Cords2['Nombre Departamento'].apply(lambda x: '' if str(x)=='nan' else str(x).replace('Á', 'A').replace('É', 'E').replace('Í', 'I').replace('Ó', 'O').replace('Ú', 'U').replace('Ñ', 'N'))\n",
    "Cords2['Nombre Municipio'] = Cords2['Nombre Municipio'].apply(lambda x: '' if str(x)=='nan' else str(x).replace('Á', 'A').replace('É', 'E').replace('Í', 'I').replace('Ó', 'O').replace('Ú', 'U').replace('Ñ', 'N'))\n",
    "Cords2['Nombre Departamento'] = Cords2['Nombre Departamento'].replace(Cambios_R)\n",
    "\n",
    "Cords2['Nombre Municipio'] = Cords2['Nombre Municipio'].apply(lambda x: x.replace(' (CT)',''))\n",
    "Cords2['Nombre Municipio'] = Cords2['Nombre Municipio'].apply(lambda x: x.replace('(CT)',''))\n",
    "Cords2['Nombre Municipio'] = Cords2['Nombre Municipio'].apply(lambda x: x.replace(',',''))\n",
    "\n",
    "Cords['Nombre Municipio'] = Cords['Nombre Municipio'].apply(lambda x: x.replace(' (CT)',''))\n",
    "Cords['Nombre Municipio'] = Cords['Nombre Municipio'].apply(lambda x: x.replace('(CT)',''))\n",
    "Cords['Nombre Municipio'] = Cords['Nombre Municipio'].apply(lambda x: x.replace(',',''))"
   ]
  },
  {
   "cell_type": "code",
   "execution_count": 126,
   "metadata": {},
   "outputs": [],
   "source": [
    "Cords2tp = Cords2.drop(Cords2[(Cords2['Latitud']==0) | (Cords2['Latitud']==0)].index)\n",
    "Cords2tp = Cords2.drop(Cords2[(Cords2['Longitud']==0) | (Cords2['Longitud']==0)].index)\n",
    "Cordstp = Cords.drop(Cords[(Cords['Latitud']==0) | (Cords['Latitud']==0)].index)\n",
    "Cordstp = Cords.drop(Cords[(Cords['Longitud']==0) | (Cords['Longitud']==0)].index)\n",
    "\n",
    "Cords = Cords.groupby(['Nombre Departamento', 'Nombre Municipio']).agg({'Latitud': 'mean', 'Longitud': 'mean'}).reset_index()\n",
    "Cords2 = Cords2.groupby(['Nombre Departamento', 'Nombre Municipio']).agg({'Latitud': 'mean', 'Longitud': 'mean'}).reset_index()\n",
    "\n",
    "Cordstp = Cordstp.groupby(['Nombre Departamento', 'Nombre Municipio']).agg({'Latitud': 'mean', 'Longitud': 'mean'}).reset_index()\n",
    "Cords2tp = Cords2tp.groupby(['Nombre Departamento', 'Nombre Municipio']).agg({'Latitud': 'mean', 'Longitud': 'mean'}).reset_index()"
   ]
  },
  {
   "cell_type": "code",
   "execution_count": 127,
   "metadata": {},
   "outputs": [
    {
     "name": "stdout",
     "output_type": "stream",
     "text": [
      "-----\n"
     ]
    }
   ],
   "source": [
    "for i in Cords['Nombre Departamento'].unique():\n",
    "    if i not in Deptos:\n",
    "        print(i)\n",
    "print('-----')\n",
    "for i in Cords2['Nombre Departamento'].unique():\n",
    "    if i not in Deptos:\n",
    "        print(i)"
   ]
  },
  {
   "cell_type": "code",
   "execution_count": 128,
   "metadata": {},
   "outputs": [
    {
     "name": "stdout",
     "output_type": "stream",
     "text": [
      "T\n",
      "T\n",
      "T\n",
      "T\n",
      "T\n",
      "T\n",
      "T\n",
      "T\n",
      "T\n"
     ]
    }
   ],
   "source": [
    "Crossut = Cordstp.merge(Cords2tp,on=['Nombre Departamento', 'Nombre Municipio'], how='outer')\n",
    "for idx, i in enumerate(Info):\n",
    "    if 'DEPARTAMENTO' in i.columns  and 'MUNICIPIO' in i.columns:\n",
    "        print('T')\n",
    "        Info[idx] = i.merge(Crossut, left_on=['DEPARTAMENTO', 'MUNICIPIO'], right_on=['Nombre Departamento', 'Nombre Municipio'], how='left')\n",
    "        Info[idx]['Latitud_x'] = Info[idx].apply(lambda x: x['Latitud_y'] if np.isnan(x['Latitud_x']) else x['Latitud_x'], axis = 1)\n",
    "        Info[idx]['Longitud_x'] = Info[idx].apply(lambda x: x['Longitud_y'] if np.isnan(x['Longitud_x']) else x['Longitud_x'], axis = 1)\n",
    "        Info[idx].drop(['Longitud_y','Latitud_y','Nombre Departamento','Nombre Municipio'],inplace=True, axis = 1)\n",
    "        Info[idx]= Info[idx].rename(columns={'Latitud_x': 'Latitud'})\n",
    "        Info[idx]= Info[idx].rename(columns={'Longitud_x': 'Longitud'})"
   ]
  },
  {
   "cell_type": "code",
   "execution_count": 129,
   "metadata": {},
   "outputs": [
    {
     "data": {
      "text/html": [
       "<div>\n",
       "<style scoped>\n",
       "    .dataframe tbody tr th:only-of-type {\n",
       "        vertical-align: middle;\n",
       "    }\n",
       "\n",
       "    .dataframe tbody tr th {\n",
       "        vertical-align: top;\n",
       "    }\n",
       "\n",
       "    .dataframe thead th {\n",
       "        text-align: right;\n",
       "    }\n",
       "</style>\n",
       "<table border=\"1\" class=\"dataframe\">\n",
       "  <thead>\n",
       "    <tr style=\"text-align: right;\">\n",
       "      <th></th>\n",
       "      <th>DEPARTAMENTO</th>\n",
       "      <th>MUNICIPIO</th>\n",
       "      <th>CLASE BIEN</th>\n",
       "      <th>FECHA HECHO</th>\n",
       "      <th>CANTIDAD</th>\n",
       "      <th>Latitud</th>\n",
       "      <th>Longitud</th>\n",
       "    </tr>\n",
       "  </thead>\n",
       "  <tbody>\n",
       "    <tr>\n",
       "      <th>0</th>\n",
       "      <td>ANTIOQUIA</td>\n",
       "      <td>FREDONIA</td>\n",
       "      <td>ESCOPETA</td>\n",
       "      <td>01/01/2010</td>\n",
       "      <td>1</td>\n",
       "      <td>5.901031</td>\n",
       "      <td>-75.690195</td>\n",
       "    </tr>\n",
       "    <tr>\n",
       "      <th>1</th>\n",
       "      <td>ATLANTICO</td>\n",
       "      <td>BARRANQUILLA</td>\n",
       "      <td>ESCOPETA</td>\n",
       "      <td>01/01/2010</td>\n",
       "      <td>1</td>\n",
       "      <td>10.978320</td>\n",
       "      <td>-74.813217</td>\n",
       "    </tr>\n",
       "    <tr>\n",
       "      <th>2</th>\n",
       "      <td>BOLIVAR</td>\n",
       "      <td>MARIA LA BAJA</td>\n",
       "      <td>ESCOPETA</td>\n",
       "      <td>01/01/2010</td>\n",
       "      <td>1</td>\n",
       "      <td>9.954484</td>\n",
       "      <td>-75.331563</td>\n",
       "    </tr>\n",
       "    <tr>\n",
       "      <th>3</th>\n",
       "      <td>BOYACA</td>\n",
       "      <td>SUTATENZA</td>\n",
       "      <td>ESCOPETA</td>\n",
       "      <td>01/01/2010</td>\n",
       "      <td>1</td>\n",
       "      <td>5.022988</td>\n",
       "      <td>-73.452314</td>\n",
       "    </tr>\n",
       "    <tr>\n",
       "      <th>4</th>\n",
       "      <td>CESAR</td>\n",
       "      <td>AGUACHICA</td>\n",
       "      <td>ESCOPETA</td>\n",
       "      <td>01/01/2010</td>\n",
       "      <td>1</td>\n",
       "      <td>8.190891</td>\n",
       "      <td>-73.661692</td>\n",
       "    </tr>\n",
       "    <tr>\n",
       "      <th>...</th>\n",
       "      <td>...</td>\n",
       "      <td>...</td>\n",
       "      <td>...</td>\n",
       "      <td>...</td>\n",
       "      <td>...</td>\n",
       "      <td>...</td>\n",
       "      <td>...</td>\n",
       "    </tr>\n",
       "    <tr>\n",
       "      <th>281474</th>\n",
       "      <td>VALLE</td>\n",
       "      <td>CALI</td>\n",
       "      <td>SUBAMETRALLADORA</td>\n",
       "      <td>02/02/2024</td>\n",
       "      <td>1</td>\n",
       "      <td>3.407032</td>\n",
       "      <td>-76.561413</td>\n",
       "    </tr>\n",
       "    <tr>\n",
       "      <th>281475</th>\n",
       "      <td>CAUCA</td>\n",
       "      <td>POPAYAN</td>\n",
       "      <td>SUBAMETRALLADORA TRAUMATICA</td>\n",
       "      <td>05/04/2024</td>\n",
       "      <td>8</td>\n",
       "      <td>2.470939</td>\n",
       "      <td>-76.599722</td>\n",
       "    </tr>\n",
       "    <tr>\n",
       "      <th>281476</th>\n",
       "      <td>CORDOBA</td>\n",
       "      <td>CHINU</td>\n",
       "      <td>SUBAMETRALLADORA TRAUMATICA</td>\n",
       "      <td>21/02/2024</td>\n",
       "      <td>1</td>\n",
       "      <td>9.033351</td>\n",
       "      <td>-75.362116</td>\n",
       "    </tr>\n",
       "    <tr>\n",
       "      <th>281477</th>\n",
       "      <td>NORTE DE SANTANDER</td>\n",
       "      <td>OCANA</td>\n",
       "      <td>SUBAMETRALLADORA TRAUMATICA</td>\n",
       "      <td>26/02/2024</td>\n",
       "      <td>1</td>\n",
       "      <td>8.263934</td>\n",
       "      <td>-73.352502</td>\n",
       "    </tr>\n",
       "    <tr>\n",
       "      <th>281478</th>\n",
       "      <td>RISARALDA</td>\n",
       "      <td>SANTA ROSA DE CABAL</td>\n",
       "      <td>SUBAMETRALLADORA TRAUMATICA</td>\n",
       "      <td>06/04/2024</td>\n",
       "      <td>1</td>\n",
       "      <td>4.900038</td>\n",
       "      <td>-75.639052</td>\n",
       "    </tr>\n",
       "  </tbody>\n",
       "</table>\n",
       "<p>281479 rows × 7 columns</p>\n",
       "</div>"
      ],
      "text/plain": [
       "              DEPARTAMENTO            MUNICIPIO                   CLASE BIEN  \\\n",
       "0                ANTIOQUIA             FREDONIA                     ESCOPETA   \n",
       "1                ATLANTICO         BARRANQUILLA                     ESCOPETA   \n",
       "2                  BOLIVAR        MARIA LA BAJA                     ESCOPETA   \n",
       "3                   BOYACA            SUTATENZA                     ESCOPETA   \n",
       "4                    CESAR            AGUACHICA                     ESCOPETA   \n",
       "...                    ...                  ...                          ...   \n",
       "281474               VALLE                 CALI             SUBAMETRALLADORA   \n",
       "281475               CAUCA              POPAYAN  SUBAMETRALLADORA TRAUMATICA   \n",
       "281476             CORDOBA                CHINU  SUBAMETRALLADORA TRAUMATICA   \n",
       "281477  NORTE DE SANTANDER                OCANA  SUBAMETRALLADORA TRAUMATICA   \n",
       "281478           RISARALDA  SANTA ROSA DE CABAL  SUBAMETRALLADORA TRAUMATICA   \n",
       "\n",
       "       FECHA HECHO  CANTIDAD    Latitud   Longitud  \n",
       "0       01/01/2010         1   5.901031 -75.690195  \n",
       "1       01/01/2010         1  10.978320 -74.813217  \n",
       "2       01/01/2010         1   9.954484 -75.331563  \n",
       "3       01/01/2010         1   5.022988 -73.452314  \n",
       "4       01/01/2010         1   8.190891 -73.661692  \n",
       "...            ...       ...        ...        ...  \n",
       "281474  02/02/2024         1   3.407032 -76.561413  \n",
       "281475  05/04/2024         8   2.470939 -76.599722  \n",
       "281476  21/02/2024         1   9.033351 -75.362116  \n",
       "281477  26/02/2024         1   8.263934 -73.352502  \n",
       "281478  06/04/2024         1   4.900038 -75.639052  \n",
       "\n",
       "[281479 rows x 7 columns]"
      ]
     },
     "execution_count": 129,
     "metadata": {},
     "output_type": "execute_result"
    }
   ],
   "source": [
    "Info[0]"
   ]
  },
  {
   "cell_type": "code",
   "execution_count": 130,
   "metadata": {},
   "outputs": [
    {
     "name": "stderr",
     "output_type": "stream",
     "text": [
      "c:\\Users\\danie\\.conda\\envs\\py312\\Lib\\site-packages\\openpyxl\\workbook\\child.py:99: UserWarning: Title is more than 31 characters. Some applications may not be able to read the file\n",
      "  warnings.warn(\"Title is more than 31 characters. Some applications may not be able to read the file\")\n"
     ]
    }
   ],
   "source": [
    "Info[0].to_excel(Ruta + r'\\python\\Datos modificados' + r\"\\Reporte_Incautaci_n_de_Armas_de_Fuego_Polic_a_Nacional_20240702_py.xlsx\",sheet_name='Reporte_Incautaci_n_de_Armas_de_Fuego_Polic_a_Nacional',index = False)\n",
    "Info[1].to_excel(Ruta + r'\\python\\Datos modificados' + r\"\\HURTO_PERSONAS_20240718_py.xlsx\",sheet_name='HURTO_PERSONAS_20240718',index = False)\n",
    "Info[2].to_excel(Ruta + r'\\python\\Datos modificados' + r\"\\Reporte_Delito_Violencia_Intrafamiliar_Polic_a_Nacional_20240702_py.xlsx\",sheet_name='Reporte_Delito_Violencia_Intrafamiliar_Polic_a_Nacional_20240702',index = False)\n",
    "Info[3].to_excel(Ruta + r'\\python\\Datos modificados' + r\"\\Reporte_Delito_Terrorismo_Polic_a_Nacional_20240702_py.xlsx\",sheet_name='Reporte_Delito_Terrorismo_Polic_a_Nacional',index = False)\n",
    "Info[4].to_excel(Ruta + r'\\python\\Datos modificados' + r\"\\Reporte_Capturas_Polic_a_Nacional_de_Colombia_20240620_py.xlsx\",sheet_name='Reporte_Capturas_Polic_a_Nacional_de_Colombia',index = False)\n",
    "Info[5].to_excel(Ruta + r'\\python\\Datos modificados' + r\"\\Reporte__Delitos_sexuales_Polic_a_Nacional_20240702_py.xlsx\",sheet_name='Reporte__Delitos_sexuales_Polic_a_Nacional',index = False)\n",
    "Info[6].to_excel(Ruta + r'\\python\\Datos modificados' + r\"\\Recuperaci_n_Veh_culos_Polic_a_Nacional_20240702_py.xlsx\",sheet_name='Recuperaci_n_Veh_culos_Polic_a_Nacional',index = False)\n",
    "Info[7].to_excel(Ruta + r'\\python\\Datos modificados' + r\"\\Homicidios_accidente_de_tr_nsito_Polic_a_Nacional_20240702_py.xlsx\",sheet_name='Homicidios_accidente_de_tr_nsito_Polic_a_Nacional',index = False)\n",
    "Info[8].to_excel(Ruta + r'\\python\\Datos modificados' + r\"\\Amenazas_Polic_a_Nacional_de_Colombia_20240702_py.xlsx\",sheet_name='Amenazas_Polic_a_Nacional_de_Colombia',index = False)\n",
    "R_Subregiones.to_excel(Ruta + r'\\python\\Datos modificados' + r\"\\subregiones_py.xlsx\",sheet_name='subregiones',index = False)"
   ]
  },
  {
   "cell_type": "code",
   "execution_count": 131,
   "metadata": {},
   "outputs": [],
   "source": [
    "TablaDeptos = R_Subregiones['NOMBRE_DEPTO'].unique()\n",
    "TablaMunicipios = R_Subregiones['NOMBRE_MPIO'].unique()\n",
    "TablaDeptos = pd.DataFrame(TablaDeptos)\n",
    "TablaMunicipios = pd.DataFrame(TablaMunicipios)\n",
    "TablaDeptos.columns = ['DEPARTAMENTO']\n",
    "TablaMunicipios.columns = ['MUNICIPIOS']\n",
    "TablaDeptos.dropna(inplace=True)\n",
    "TablaMunicipios.dropna(inplace=True)\n",
    "TablaDeptos['DEPARTAMENTO'] = TablaDeptos['DEPARTAMENTO'].apply(lambda x: str(x).strip())\n",
    "TablaMunicipios['MUNICIPIOS'] = TablaMunicipios['MUNICIPIOS'].apply(lambda x: str(x).strip())\n",
    "TablaDeptos.drop(TablaDeptos[TablaDeptos['DEPARTAMENTO']=='NAN'].index,inplace=True)\n",
    "TablaMunicipios.drop(TablaMunicipios[TablaMunicipios['MUNICIPIOS']=='NAN'].index,inplace=True)"
   ]
  },
  {
   "cell_type": "code",
   "execution_count": 132,
   "metadata": {},
   "outputs": [],
   "source": [
    "Info_grpoup = [[] for i in range(len(Info))]\n",
    "for i in range(len(Info)):\n",
    "    Info_grpoup[i] = Info[i].groupby('FECHA HECHO').sum('CANTIDAD')"
   ]
  },
  {
   "cell_type": "code",
   "execution_count": 133,
   "metadata": {},
   "outputs": [
    {
     "name": "stderr",
     "output_type": "stream",
     "text": [
      "c:\\Users\\danie\\.conda\\envs\\py312\\Lib\\site-packages\\openpyxl\\workbook\\child.py:99: UserWarning: Title is more than 31 characters. Some applications may not be able to read the file\n",
      "  warnings.warn(\"Title is more than 31 characters. Some applications may not be able to read the file\")\n"
     ]
    }
   ],
   "source": [
    "Info_grpoup[0].to_excel(Ruta + r'\\python\\Datos modificados' + r\"\\Grouped_Reporte_Incautaci_n_de_Armas_de_Fuego_Polic_a_Nacional_20240702_py.xlsx\",sheet_name='Gr_Reporte_Incautaci_n_de_Armas_de_Fuego_Polic_a_Nacional',index = True)\n",
    "Info_grpoup[1].to_excel(Ruta + r'\\python\\Datos modificados' + r\"\\Grouped_HURTO_PERSONAS_20240718_py.xlsx\",sheet_name='Gr_HURTO_PERSONAS_20240718',index = True)\n",
    "Info_grpoup[2].to_excel(Ruta + r'\\python\\Datos modificados' + r\"\\Grouped_Reporte_Delito_Violencia_Intrafamiliar_Polic_a_Nacional_20240702_py.xlsx\",sheet_name='Gr_Reporte_Delito_Violencia_Intrafamiliar_Polic_a_Nacional_20240702',index = True)\n",
    "Info_grpoup[3].to_excel(Ruta + r'\\python\\Datos modificados' + r\"\\Grouped_Reporte_Delito_Terrorismo_Polic_a_Nacional_20240702_py.xlsx\",sheet_name='Gr_Reporte_Delito_Terrorismo_Polic_a_Nacional',index = True)\n",
    "Info_grpoup[4].to_excel(Ruta + r'\\python\\Datos modificados' + r\"\\Grouped_Reporte_Capturas_Polic_a_Nacional_de_Colombia_20240620_py.xlsx\",sheet_name='Gr_Reporte_Capturas_Polic_a_Nacional_de_Colombia',index = True)\n",
    "Info_grpoup[5].to_excel(Ruta + r'\\python\\Datos modificados' + r\"\\Grouped_Reporte__Delitos_sexuales_Polic_a_Nacional_20240702_py.xlsx\",sheet_name='Gr_Reporte__Delitos_sexuales_Polic_a_Nacional',index = True)\n",
    "Info_grpoup[6].to_excel(Ruta + r'\\python\\Datos modificados' + r\"\\Grouped_Recuperaci_n_Veh_culos_Polic_a_Nacional_20240702_py.xlsx\",sheet_name='Gr_Recuperaci_n_Veh_culos_Polic_a_Nacional',index = True)\n",
    "Info_grpoup[7].to_excel(Ruta + r'\\python\\Datos modificados' + r\"\\Grouped_Homicidios_accidente_de_tr_nsito_Polic_a_Nacional_20240702_py.xlsx\",sheet_name='Gr_Homicidios_accidente_de_tr_nsito_Polic_a_Nacional',index = True)\n",
    "Info_grpoup[8].to_excel(Ruta + r'\\python\\Datos modificados' + r\"\\Grouped_Amenazas_Polic_a_Nacional_de_Colombia_20240702_py.xlsx\",sheet_name='Gr_Amenazas_Polic_a_Nacional_de_Colombia',index = True)"
   ]
  },
  {
   "cell_type": "code",
   "execution_count": 134,
   "metadata": {},
   "outputs": [],
   "source": [
    "Cords.to_excel(Ruta + r'\\python\\Datos modificados' + r\"\\Clasificador_Geográfico_py.xlsx\",sheet_name='Geoclasificador',index = False)\n",
    "Cords2.to_excel(Ruta + r'\\python\\Datos modificados' + r\"\\Geoportal_Divipola_py.xlsx\",sheet_name='Geoclasificador2',index = False)"
   ]
  },
  {
   "cell_type": "code",
   "execution_count": 135,
   "metadata": {},
   "outputs": [],
   "source": [
    "TablaDeptos.to_excel(Ruta + r'\\python\\Datos modificados' + r\"\\TablaDeptos_py.xlsx\",sheet_name='Dp_subregiones',index = False, header=False)\n",
    "TablaMunicipios.to_excel(Ruta + r'\\python\\Datos modificados' + r\"\\TablaMuni_py.xlsx\",sheet_name='Mn_subregiones',index = False, header=False)"
   ]
  },
  {
   "cell_type": "code",
   "execution_count": 136,
   "metadata": {},
   "outputs": [
    {
     "data": {
      "text/html": [
       "<div>\n",
       "<style scoped>\n",
       "    .dataframe tbody tr th:only-of-type {\n",
       "        vertical-align: middle;\n",
       "    }\n",
       "\n",
       "    .dataframe tbody tr th {\n",
       "        vertical-align: top;\n",
       "    }\n",
       "\n",
       "    .dataframe thead th {\n",
       "        text-align: right;\n",
       "    }\n",
       "</style>\n",
       "<table border=\"1\" class=\"dataframe\">\n",
       "  <thead>\n",
       "    <tr style=\"text-align: right;\">\n",
       "      <th></th>\n",
       "      <th>DEPARTAMENTO</th>\n",
       "      <th>FECHA HECHO</th>\n",
       "      <th>MUNICIPIO</th>\n",
       "      <th>CANTIDAD</th>\n",
       "      <th>Latitud</th>\n",
       "      <th>Longitud</th>\n",
       "    </tr>\n",
       "  </thead>\n",
       "  <tbody>\n",
       "  </tbody>\n",
       "</table>\n",
       "</div>"
      ],
      "text/plain": [
       "Empty DataFrame\n",
       "Columns: [DEPARTAMENTO, FECHA HECHO, MUNICIPIO, CANTIDAD, Latitud, Longitud]\n",
       "Index: []"
      ]
     },
     "execution_count": 136,
     "metadata": {},
     "output_type": "execute_result"
    }
   ],
   "source": [
    "Info[1][(Info[1]['DEPARTAMENTO'] == 'BOGOTA D.C.') & (Info[1]['Latitud'].isna())]"
   ]
  }
 ],
 "metadata": {
  "kernelspec": {
   "display_name": "py312",
   "language": "python",
   "name": "python3"
  },
  "language_info": {
   "codemirror_mode": {
    "name": "ipython",
    "version": 3
   },
   "file_extension": ".py",
   "mimetype": "text/x-python",
   "name": "python",
   "nbconvert_exporter": "python",
   "pygments_lexer": "ipython3",
   "version": "3.12.4"
  }
 },
 "nbformat": 4,
 "nbformat_minor": 2
}
