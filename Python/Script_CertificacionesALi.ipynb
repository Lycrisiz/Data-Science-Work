{
 "cells": [
  {
   "cell_type": "markdown",
   "metadata": {},
   "source": [
    "Este script sirve para automatizar word puedes tomar inspiracion y copiarlo por si lo necesitas para algo más (recuerda guardar una copia)\n"
   ]
  },
  {
   "cell_type": "code",
   "execution_count": 16,
   "metadata": {},
   "outputs": [
    {
     "data": {
      "application/vnd.jupyter.widget-view+json": {
       "model_id": "3122cb04bc264c13884d79b2f8279db9",
       "version_major": 2,
       "version_minor": 0
      },
      "text/plain": [
       "  0%|          | 0/1 [00:00<?, ?it/s]"
      ]
     },
     "metadata": {},
     "output_type": "display_data"
    }
   ],
   "source": [
    "from docx import Document\n",
    "import pandas as pd\n",
    "from docx2pdf import convert\n",
    "\n",
    "DTPC = pd.read_excel(\"../Excels/Ali/Datos para Certificacion - copia.xlsx\") #lee un excel con la informacion a automatizar\n",
    "def modificar_documento(x):\n",
    "\n",
    "    #este modulo filtra por categoria, hay distintos formatos de documentos que se deben leer, como formato 1 formato 2 etc...\n",
    "    #dependiendo de una columna en excel que se llama proyecto, esta columna la usas para seleccionar el formato\n",
    "\n",
    "    if x['PROYECTO'] == \"HUB\":\n",
    "        doc = Document(\"..\\Excels\\Ali\\Hub infinity.docx\") #selecciono el tipo de documento \n",
    "        save = \"../Drops py/Ali Drops/Certificacion HUB INFINITY \"+str(x['NOMBRE'])+\".docx\" #selecciono como lo voy a guardar\n",
    "    if x['PROYECTO'] == \"SLT\":\n",
    "        doc = Document(\"..\\Excels\\Ali\\Slt.docx\")\n",
    "        save = \"../Drops py/Ali Drops/Certificacion STL \"+str(x['NOMBRE'])+\".docx\"\n",
    "    if x['PROYECTO'] == \"VENTA EMPRESA\":\n",
    "        doc = Document(\"..\\Excels\\Ali\\Venta empresa.docx\")\n",
    "        save = \"../Drops py/Ali Drops/Certificacion VENTA EMPRESA \"+str(x['NOMBRE'])+\".docx\"\n",
    "    if x['PROYECTO'] == \"OMNICANAL\":\n",
    "        doc = Document(\"..\\Excels\\Ali\\Omnicanal.docx\")\n",
    "        save = \"../Drops py/Ali Drops/Certificacion OMNICANAL \"+str(x['NOMBRE'])+\".docx\"\n",
    "    if x['PROYECTO'] == \"ROBOTS\":\n",
    "        doc = Document(\"..\\Excels\\Ali\\Robots.docx\")# = C:\\\\Users\\\\Usuario\\\\Documents\\\\Excels\\Ali\\Robots.docx\n",
    "        save = \"../Drops py/Ali Drops/Certificacion ROBOTS \"+str(x['NOMBRE'])+\".docx\"\n",
    "\n",
    "\n",
    "    #codigo\n",
    "    if int(x['NUMERO MESES']) == x['NUMERO MESES']:\n",
    "        val = int(x['NUMERO MESES']) #es como un astype, consume memoria al arreglar las variables dentro del codigo\n",
    "    else: \n",
    "        val  = x['NUMERO MESES']\n",
    "\n",
    "    \n",
    "    for paragraph in doc.paragraphs:\n",
    "        #importa el texto, tiene un error y lo importa mal, tiene muchos saltos de lina pero es lo suficientemente bueno para que funcione\n",
    "        #en el documento los remplazables los modifiqué asi \"vvvvvvvvvvb\" para que no me modifiqe el resto del documento, son keys por asi decirlo\n",
    "        if \"vvvvvvvvvvb\" in paragraph.text:\n",
    "                inline = paragraph.runs\n",
    "                for i in range(len(inline)):\n",
    "                    if \"vvvvvvvvvvb\" in inline[i].text:\n",
    "                        text = inline[i].text.replace(\"vvvvvvvvvvb\",x['NOMBRE'])\n",
    "                        inline[i].text = text\n",
    "    for paragraph in doc.paragraphs: #si no estoy mal importa el parrafo\n",
    "        if \"vvvvvvvvvvc\" in paragraph.text: #pregunta si la key esta en el parrafo\n",
    "                inline = paragraph.runs #in line es como las lineas del parrafo\n",
    "                for i in range(len(inline)):\n",
    "                    if \"vvvvvvvvvvc\" in inline[i].text: #pregunta si en alguna linea encuentra lo que debe modificar\n",
    "                        text = inline[i].text.replace(\"vvvvvvvvvvc\",str(x['CEDULA'])) #remplaza el valor por el de excel\n",
    "                        inline[i].text = text#sobre escribe el valor \n",
    "    for paragraph in doc.paragraphs:\n",
    "        if \"vvvvvvvvvvd\" in paragraph.text:\n",
    "                inline = paragraph.runs\n",
    "                for i in range(len(inline)):\n",
    "                    if \"vvvvvvvvvvd\" in inline[i].text:\n",
    "                        text = inline[i].text.replace(\"vvvvvvvvvvd\", str(x['CARGO']))\n",
    "                        inline[i].text = text\n",
    "    for paragraph in doc.paragraphs:\n",
    "        if \"vvvvvvvvvve\" in paragraph.text:\n",
    "                inline = paragraph.runs\n",
    "                for i in range(len(inline)):\n",
    "                    if \"vvvvvvvvvve\" in inline[i].text:\n",
    "                        text = inline[i].text.replace(\"vvvvvvvvvve\", str(x['% PROYECTO'])+\"%\")\n",
    "                        inline[i].text = text\n",
    "    for paragraph in doc.paragraphs:\n",
    "        if \"vvvvvvvvvvf\" in paragraph.text:\n",
    "                inline = paragraph.runs\n",
    "                for i in range(len(inline)):\n",
    "                    if \"vvvvvvvvvvf\" in inline[i].text:\n",
    "                        text = inline[i].text.replace(\"vvvvvvvvvvf\", str(val))\n",
    "                        inline[i].text = text\n",
    "    for paragraph in doc.paragraphs: \n",
    "        if \"vvvvvvvvvvg\" in paragraph.text:\n",
    "                inline = paragraph.runs\n",
    "                for i in range(len(inline)):\n",
    "                    if \"vvvvvvvvvvg\" in inline[i].text:\n",
    "                        text = inline[i].text.replace(\"vvvvvvvvvvg\", str(x['VALOR A CERTIFICAR']))\n",
    "                        inline[i].text = text\n",
    "                        #modifica todo el texto, y lo guarda \n",
    "    doc.save(save)\n",
    "    convert(save) #y lo convierte a pdf \n",
    "DTPC.apply(lambda x: modificar_documento(x), axis = 1) #aplica la funcion"
   ]
  }
 ],
 "metadata": {
  "kernelspec": {
   "display_name": "Python 3",
   "language": "python",
   "name": "python3"
  },
  "language_info": {
   "codemirror_mode": {
    "name": "ipython",
    "version": 3
   },
   "file_extension": ".py",
   "mimetype": "text/x-python",
   "name": "python",
   "nbconvert_exporter": "python",
   "pygments_lexer": "ipython3",
   "version": "3.11.4"
  },
  "orig_nbformat": 4
 },
 "nbformat": 4,
 "nbformat_minor": 2
}
