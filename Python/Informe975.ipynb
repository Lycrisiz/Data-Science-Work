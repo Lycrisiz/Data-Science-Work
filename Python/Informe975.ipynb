{
 "cells": [
  {
   "cell_type": "code",
   "execution_count": 356,
   "id": "65415167",
   "metadata": {},
   "outputs": [],
   "source": [
    "import pandas as pd\n",
    "import numpy as np\n",
    "import matplotlib.pyplot as plt\n",
    "from datetime import datetime\n",
    "import xlrd\n",
    "import openpyxl\n",
    "\n",
    "IF975 = pd.read_excel(\"..\\Excels\\Informe 975\\Informe 975 Mayo.xlsx\")\n",
    "Fechayear = '2023/01/01'\n",
    "Fechacorte = '2023/05/31'\n",
    "\n",
    "def ancb(row):\n",
    "    #p = pd.to_datetime(row['FECHA FIN OTRO SI']\n",
    "    n = pd.to_datetime(row['FECHA FIN OTRO SI'])\n",
    "    m = pd.to_datetime(row['011_FECHA_AUMENTO'])\n",
    "    t = row['014_VALOR']\n",
    "    p1 = pd.to_datetime(Fechayear,format='%Y/%m/%d')\n",
    "    q1 = pd.to_datetime(Fechacorte,format='%Y/%m/%d')\n",
    "    if (n.year >= 2023 and t != 0 and n.month >= p1.month and m.month <= q1.month):\n",
    "        return str(n.year)\n",
    "    else:\n",
    "        return ''\n",
    "def FFOS(x,y):\n",
    "    if x == x.shift():\n",
    "        return y.shift()\n",
    "    else:\n",
    "        return y\n",
    "def INTE(x):\n",
    "    try:\n",
    "        return int(x)\n",
    "    except:\n",
    "        return 10**18\n",
    "def INTE2(x):\n",
    "    if x== 10**18:\n",
    "        return \"\"\n",
    "    else:\n",
    "        return str(x)\n",
    "\n",
    "fc = pd.to_datetime(IF975[\"011_FECHA_AUMENTO\"], '%d/%m/%Y')\n",
    "fc = fc.apply(lambda x: x.toordinal())\n",
    "fc = fc.apply(lambda x: str(x - datetime(1899, 12, 30).toordinal()))\n",
    "IF975['006_EMP_CODIGO'] = IF975['006_EMP_CODIGO'].apply(INTE)\n",
    "IF975.sort_values(by=['006_EMP_CODIGO',\"011_FECHA_AUMENTO\"], ascending=[True,False],inplace=True)\n",
    "IF975['006_EMP_CODIGO'] = IF975['006_EMP_CODIGO'].apply(INTE2)\n",
    "IF975.insert(5 ,\"CLAVE REPETIDOS\",pd.concat([IF975['006_EMP_CODIGO'].astype(str),fc],axis=1).apply(''.join, axis=1))\n",
    "IF975.insert(12,\"FECHA FIN OTRO SI\",np.where(IF975['006_EMP_CODIGO'].eq(IF975['006_EMP_CODIGO'].shift()),IF975['011_FECHA_AUMENTO'].shift(),IF975['011_FECHA_AUMENTO']))\n",
    "IF975.insert(13,datetime.strptime(\"1/1/2023\", '%d/%m/%Y').strftime('%d/%m/%Y'),\"\")\n",
    "IF975.insert(14,datetime.strptime(\"30/6/2023\", '%d/%m/%Y').strftime('%d/%m/%Y'),\"\")\n",
    "IF975.insert(13,\"AÑO CAMBIO\",IF975.apply(ancb,axis=1))\n",
    "IF975.insert(6 ,\"CLAVE\",pd.concat([IF975[\"006_EMP_CODIGO\"].astype(str),IF975[\"AÑO CAMBIO\"].astype(str)],axis=1).apply(''.join, axis=1))\n",
    "\n",
    "\n",
    "IF975.to_excel(\"../Drops py/Informe 975 Mayo_py.xlsx\", sheet_name='Hoja1', index=False)"
   ]
  },
  {
   "cell_type": "code",
   "execution_count": 220,
   "id": "cf6761e3",
   "metadata": {},
   "outputs": [],
   "source": [
    "\n",
    "#IF975[\"011_FECHA_AUMENTO\"] = pd.to_datetime(IF975[\"011_FECHA_AUMENTO\"].dt.date)\n",
    "#IF975[\"FECHA FIN OTRO SI\"] = pd.to_datetime(IF975[\"FECHA FIN OTRO SI\"].dt.date)\n",
    "#IF975[\"017_FECHA_CAMBIO_JOR\"] = pd.to_datetime(IF975[\"017_FECHA_CAMBIO_JOR\"].dt.date)\n",
    "#IF975[\"019_FECHA_ANT_CAMBIO_JOR\"] = pd.to_datetime(IF975[\"019_FECHA_ANT_CAMBIO_JOR\"].dt.date)\n",
    "#IF975[\"021_FECHA_CAMB_HOR_X_DIA\"] = pd.to_datetime(IF975[\"021_FECHA_CAMB_HOR_X_DIA\"].dt.date)\n"
   ]
  }
 ],
 "metadata": {
  "kernelspec": {
   "display_name": "Python 3 (ipykernel)",
   "language": "python",
   "name": "python3"
  },
  "language_info": {
   "codemirror_mode": {
    "name": "ipython",
    "version": 3
   },
   "file_extension": ".py",
   "mimetype": "text/x-python",
   "name": "python",
   "nbconvert_exporter": "python",
   "pygments_lexer": "ipython3",
   "version": "3.11.4"
  }
 },
 "nbformat": 4,
 "nbformat_minor": 5
}
